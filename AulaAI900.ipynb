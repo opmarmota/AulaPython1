{
  "nbformat": 4,
  "nbformat_minor": 0,
  "metadata": {
    "colab": {
      "provenance": [],
      "collapsed_sections": [
        "Adfqf5CNktrs",
        "qcrF3RFslM2D",
        "aaHgX6IKvMxB",
        "V3Agl4xWNTK3",
        "I_wBeeA_7jA6",
        "5c6Nmzdn4jaR",
        "u3D2Z5i_2Vvn",
        "BSMld4kSiJpq",
        "ZGRiTaz5pZLt",
        "14gtotVk6tJ6",
        "6bB26K__AQ8H",
        "viZv3Ocd6wpR",
        "oA9PmbhdGIgk",
        "lWXK2dPt9Ftw",
        "0tE7GnDLBwag"
      ],
      "authorship_tag": "ABX9TyNOzTjVo2FLvjB1HiaNioMQ"
    },
    "kernelspec": {
      "name": "python3",
      "display_name": "Python 3"
    },
    "language_info": {
      "name": "python"
    }
  },
  "cells": [
    {
      "cell_type": "markdown",
      "source": [
        "*   str.len() = Mostra quantos caracteres tem na mensagem\n",
        "*   str.upper() = Coloca toda a mensagem em Caps Lock\n",
        "*   str.lower() = Coloca toda a mensagem em caixa baixa\n",
        "*   str.count(\"\") = Conta quantos caracteres tem na mensagem(texto, palavra, *   numero)\n",
        "*   str.find(\"\", 8, 15) = Procura certo caractere entre o 8º e o 15º caractere\n",
        "*   str.rfind(\"\") = Mesma coisa, mas de tras pra frente\n",
        "*   str.replace(\"\", \"\") = Troca um caractere por outro\n",
        "*   str.rstrip() = Apaga os espaços da direita\n",
        "*   str.lstrip() = Apaga os espaços da esquerda\n",
        "*   str.strip() = Apaga todos os espaços"
      ],
      "metadata": {
        "id": "HCiC0r2OtltS"
      }
    },
    {
      "cell_type": "code",
      "source": [
        "print(\"\\033[0;30m Preto               \\033[0m--> 0;30 \")\n",
        "print(\"\\033[0;31m Vermelho            \\033[0m--> 0;31 \")\n",
        "print(\"\\033[0;32m Verde               \\033[0m--> 0;32 \")\n",
        "print(\"\\033[0;33m Marrom              \\033[0m--> 0;33 \")\n",
        "print(\"\\033[0;34m Azul                \\033[0m--> 0;34 \")\n",
        "print(\"\\033[0;35m Purple              \\033[0m--> 0;35 \")\n",
        "print(\"\\033[0;36m Cyan                \\033[0m--> 0;36 \")\n",
        "print(\"\\033[0;37m Cinza Claro         \\033[0m--> 0;37 \\n\")\n",
        "print(\"\\033[1;30m Preto Acinzentado   \\033[0m--> 1;30 \")\n",
        "print(\"\\033[1;31m Vermelho Claro      \\033[0m--> 1;31 \")\n",
        "print(\"\\033[1;32m Verde Claro         \\033[0m--> 1;32 \")\n",
        "print(\"\\033[1;33m Amarelo             \\033[0m--> 1;33 \")\n",
        "print(\"\\033[1;34m Azul  Claro         \\033[0m--> 1;34 \")\n",
        "print(\"\\033[1;35m Purple Claro        \\033[0m--> 1;35 \")\n",
        "print(\"\\033[1;36m Cyan  Claro         \\033[0m--> 1;36 \")\n",
        "print(\"\\033[1;37m Branco              \\033[0m--> 1;37 \\n\")\n",
        "print(\"\\033[40;1;37m Fundo Preto         \\033[0m--> 40;?;? \")\n",
        "print(\"\\033[41;1;37m Fundo Vermelho      \\033[0m--> 41;?;? \")\n",
        "print(\"\\033[42;1;37m Fundo Verde         \\033[0m--> 42;?;? \")\n",
        "print(\"\\033[43;1;37m Fundo Marrom        \\033[0m--> 43;?;? \")\n",
        "print(\"\\033[44;1;37m Fundo Azul     \\033[0m     --> 44;?;? \")\n",
        "print(\"\\033[45;1;37m Fundo Purple   \\033[0m     --> 45;?;? \")\n",
        "print(\"\\033[46;1;37m Fundo Cyan     \\033[0m     --> 46;?;? \")\n",
        "print(\"\\033[47;1;37m Fundo Cinza    \\033[0m     --> 47;?;? \\n\")\n",
        "print(\"\\033[4;30m Sublinhado          \\033[0m--> 4;? \")\n",
        "print(\"\\033[5;30m Piscando            \\033[0m--> 5;? \")\n",
        "print(\"\\033[7;30m Invertido           \\033[0m--> 7;? \")\n",
        "print(\"\\033[8;30m Concealed           \\033[0m--> 8;? \")"
      ],
      "metadata": {
        "id": "5Jje9uwNRRR4"
      },
      "execution_count": null,
      "outputs": []
    },
    {
      "cell_type": "markdown",
      "source": [
        "# **Calculadora de Bhaskara**"
      ],
      "metadata": {
        "id": "Adfqf5CNktrs"
      }
    },
    {
      "cell_type": "code",
      "source": [
        "a = int(input('Coloque o valor de A: '))\n",
        "b = int(input('Coloque o valor de B: '))\n",
        "c = int(input('Coloque o valor de C: '))\n",
        "\n",
        "xa = (-b + (b**2 - 4*a*c)**(1/2)) / (2*a) \n",
        "xb = (-b - (b**2 - 4*a*c)**(1/2)) / (2*a) \n",
        "\n",
        "if (xa == xb):\n",
        "  print(f'X = {xa:.2f}')\n",
        "else:\n",
        "  print(f'X1 = {xa:.2f}\\nX2 = {xb:.2f}')"
      ],
      "metadata": {
        "id": "oBcTVmogP-om"
      },
      "execution_count": null,
      "outputs": []
    },
    {
      "cell_type": "markdown",
      "source": [
        "Calculadora de bhaskara, mas com a biblioteca math:"
      ],
      "metadata": {
        "id": "YkLyhHhB7XXP"
      }
    },
    {
      "cell_type": "code",
      "source": [
        "from math import sqrt\n",
        "\n",
        "a = int(input('Coloque o valor de A: '))\n",
        "b = int(input('Coloque o valor de B: '))\n",
        "c = int(input('Coloque o valor de C: '))\n",
        "\n",
        "raiz = sqrt(b**2 - 4*a*c)\n",
        "\n",
        "xa = (-b + raiz) / (2*a) \n",
        "xb = (-b - raiz) / (2*a) \n",
        "\n",
        "if (xa == xb):\n",
        "  print(f'X = {xa:.2f}')\n",
        "else:\n",
        "  print(f'X1 = {xa:.2f}\\nX2 = {xb:.2f}')"
      ],
      "metadata": {
        "id": "2E6pyxfN6TeA"
      },
      "execution_count": null,
      "outputs": []
    },
    {
      "cell_type": "markdown",
      "source": [
        "# **Calculador de média**"
      ],
      "metadata": {
        "id": "qcrF3RFslM2D"
      }
    },
    {
      "cell_type": "code",
      "source": [
        "notas=[]\n",
        "soma = 0\n",
        "\n",
        "notas = int(input('Quantas notas você tem? '))\n",
        "for i in range (1, notas+1):\n",
        "  i = int(input(f'Coloque a nota {i}: '))\n",
        "  soma+=i\n",
        "\n",
        "media = soma/notas\n",
        "\n",
        "print(f'Sua média é {media:.1f}')"
      ],
      "metadata": {
        "id": "jgwnUNbkdd08"
      },
      "execution_count": null,
      "outputs": []
    },
    {
      "cell_type": "markdown",
      "source": [
        "# **Calcular idade**"
      ],
      "metadata": {
        "id": "aaHgX6IKvMxB"
      }
    },
    {
      "cell_type": "code",
      "source": [
        "from datetime import datetime\n",
        "DataAtual = datetime.now()\n",
        "day = DataAtual.strftime(\"%d\")\n",
        "\n",
        "diaHoje = int(DataAtual.strftime(\"%d\"))\n",
        "mesAtual = int(DataAtual.strftime(\"%m\"))\n",
        "anoAtual = int(DataAtual.strftime(\"%Y\"))\n",
        "\n",
        "ano = int(input(\"Em que ano você nasceu? \"))\n",
        "mes = int(input(\"Em que mês você nasceu? \"))\n",
        "dia = int(input(\"Em que dia você nasceu? \"))\n",
        "if ((mes > mesAtual) | ((mes == mesAtual) & (dia > diaHoje))):\n",
        "  idade = (anoAtual-1) - ano\n",
        "else:\n",
        "  idade = anoAtual - ano\n",
        "\n",
        "print(f\"Você tem {idade} anos\")"
      ],
      "metadata": {
        "id": "v6nDbcxNvV35"
      },
      "execution_count": null,
      "outputs": []
    },
    {
      "cell_type": "markdown",
      "source": [
        "# **Conversão temperatura**\n",
        "\n"
      ],
      "metadata": {
        "id": "V3Agl4xWNTK3"
      }
    },
    {
      "cell_type": "code",
      "source": [
        "inicio = input(\"Gostaria de converter de Celsius, Fahrenheit ou Kelvin? \")\n",
        "fim = input(\"Gostaria de converter para Celsius, Fahrenheit ou Kelvin? \")\n",
        "\n",
        "if(inicio.lower() != fim.lower()):\n",
        "  temperatura = int(input(\"\\nQual a temperatura? \"))\n",
        "  \n",
        "  #  Celsius\n",
        "  if ((inicio.lower() == \"celsius\") & (fim.lower() == \"kelvin\")):\n",
        "    print(\"\\nA temperatura convertida é \" + str(temperatura + 273) + \" K\")\n",
        "  elif ((inicio.lower() == \"celsius\") & (fim.lower() == \"fahrenheit\")):\n",
        "    print(\"\\nA temperatura convertida é \" + str(temperatura * 1.8 + 32) + \" °F\")\n",
        "      \n",
        "  #  Kelvin\n",
        "  elif ((inicio.lower() == \"kelvin\") & (fim.lower() == \"fahrenheit\")):\n",
        "    print(\"\\nA temperatura convertida é \" + str((temperatura - 273) * 1.8 + 32) + \" °F\")\n",
        "  elif ((inicio.lower() == \"kelvin\") & (fim.lower() == \"celsius\")):\n",
        "    print(\"\\nA temperatura convertida é \" + str(temperatura - 273) + \" °C\")\n",
        "    \n",
        "  #  Fahrenheit\n",
        "  elif ((inicio.lower() == \"fahrenheit\") & (fim.lower() == \"celsius\")):\n",
        "    print(\"\\nA temperatura convertida é \" + str((temperatura - 32) / 1.8) + \" °C\")\n",
        "  elif ((inicio.lower() == \"fahrenheit\") & (fim.lower() == \"kelvin\")):\n",
        "    print(\"\\nA temperatura convertida é \" + str(((temperatura - 32) / 1.8) + 273.15) + \" K\")\n",
        "  else:\n",
        "    print(\"\\nResposta Inválida\")\n",
        "\n",
        "else:\n",
        "  print(\"As temperaturas são as mesmas\")"
      ],
      "metadata": {
        "id": "J1GwYXYdj2h6"
      },
      "execution_count": null,
      "outputs": []
    },
    {
      "cell_type": "markdown",
      "source": [
        "# **Fibonacci**"
      ],
      "metadata": {
        "id": "I_wBeeA_7jA6"
      }
    },
    {
      "cell_type": "code",
      "source": [
        "i = int(input(\"Quantos numeros você deseja? \"))\n",
        "\n",
        "a = 1\n",
        "print(a, end=' ')\n",
        "b = 1\n",
        "print(b, end=' ')\n",
        "soma = 2\n",
        "\n",
        "while (i-2 > 0):\n",
        "  c = a + b\n",
        "  print(c, end=' ')\n",
        "  soma+=c\n",
        "  a = b\n",
        "  b = c\n",
        "  i-=1\n",
        "\n",
        "print(f'\\nA soma dos numeros é {soma}')"
      ],
      "metadata": {
        "id": "puxSXNDr8F5a"
      },
      "execution_count": null,
      "outputs": []
    },
    {
      "cell_type": "markdown",
      "source": [
        "# **Área do retangulo e circulo**\n"
      ],
      "metadata": {
        "id": "5c6Nmzdn4jaR"
      }
    },
    {
      "cell_type": "code",
      "source": [
        "resposta = input(\"Quer saber do circulo ou retangulo? \")\n",
        "\n",
        "if (resposta.lower() == \"circulo\"):\n",
        "  r = int(input(\"Informe o valor do raio: \"))\n",
        "  area = 3.14 * r ** 2\n",
        "  perimetro = 2 * 3.14 * r\n",
        "  print(f'A área do circulo é {area:.2f} e o perímetro é {perimetro:.2f}')\n",
        "\n",
        "elif (resposta.lower() == \"retangulo\"):\n",
        "  base = int(input(\"Informe o valor da base: \"))\n",
        "  altura = int(input(\"Informe o valor da altura: \"))\n",
        "  area = base * altura\n",
        "  perimetro = 2*(base + altura)\n",
        "  print(\"A área do retângulo é \" + str(area) + \" e o perímetro é \" + str(perimetro))\n",
        "  \n",
        "else:\n",
        "  print(\"Resposta Inválida!\")"
      ],
      "metadata": {
        "id": "6Jdz0CNwNpRp"
      },
      "execution_count": null,
      "outputs": []
    },
    {
      "cell_type": "markdown",
      "source": [
        "# **Dirigir e votar**\n"
      ],
      "metadata": {
        "id": "u3D2Z5i_2Vvn"
      }
    },
    {
      "cell_type": "code",
      "source": [
        "idade = int(input('Informe sua idade: '))\n",
        "\n",
        "if (idade >= 18):\n",
        "  print(\"Você pode votar e dirigir\")\n",
        "elif (18 > idade >= 16):\n",
        "  print(\"Você pode votar, mas não dirigir\")\n",
        "else:\n",
        "  print(\"Você não pode votar e nem dirigir\")"
      ],
      "metadata": {
        "id": "yhv9Mc_C1DLw"
      },
      "execution_count": null,
      "outputs": []
    },
    {
      "cell_type": "markdown",
      "source": [
        "# **Comparar int**\n"
      ],
      "metadata": {
        "id": "BSMld4kSiJpq"
      }
    },
    {
      "cell_type": "code",
      "source": [
        "a = int(input('Qual o numero A? '))\n",
        "b = int(input('Qual o numero B? '))\n",
        "\n",
        "if a > b:\n",
        "  print(f'\\n{a} é maior que {b}')\n",
        "else:\n",
        "  print(f'\\n{a} não é maior que {b}')\n",
        "\n",
        "if a < b:\n",
        "  print(f'{a} é menor que {b}')\n",
        "else:\n",
        "  print(f'{a} não é menor que {b}')\n",
        "\n",
        "if a == b:\n",
        "  print(f'{a} é igual a {b}')\n",
        "else:\n",
        "  print(f'{a} é diferente de {b}')\n",
        "\n",
        "if a >= b:\n",
        "  print(f'{a} é maior ou igual a {b}')\n",
        "else:\n",
        "  print(f'{a} não é maior ou igual a {b}')\n",
        "\n",
        "if a <= b:\n",
        "  print(f'{a} é menor ou igual a {b}')\n",
        "else:\n",
        "  print(f'{a} não é menor ou igual a {b}')"
      ],
      "metadata": {
        "id": "RJHKllH6iSxy"
      },
      "execution_count": null,
      "outputs": []
    },
    {
      "cell_type": "markdown",
      "source": [
        "# **Nome**"
      ],
      "metadata": {
        "id": "ZGRiTaz5pZLt"
      }
    },
    {
      "cell_type": "code",
      "source": [
        "nome = input('Qual o seu nome? ').strip()\n",
        "\n",
        "if (nome.lower() == \"wilber\"):\n",
        "  print(f'\\nBom dia, professor {nome.capitalize()}!')\n",
        "else:\n",
        "  print(f'\\nBom dia, assistente {nome.capitalize()}!')"
      ],
      "metadata": {
        "id": "IvoF7i3UphAd"
      },
      "execution_count": null,
      "outputs": []
    },
    {
      "cell_type": "markdown",
      "source": [
        "# **Impar ou par**"
      ],
      "metadata": {
        "id": "14gtotVk6tJ6"
      }
    },
    {
      "cell_type": "code",
      "source": [
        "numero = int(input(\"Digite um numero: \"))\n",
        "if (numero == 0):\n",
        "  print('Zero não é possível')\n",
        "elif(numero % 2 == 0):\n",
        "  print(\"É um numero par.\")\n",
        "else:\n",
        "  print(\"É um numero impar.\")"
      ],
      "metadata": {
        "id": "ZE_8jh5u620i"
      },
      "execution_count": null,
      "outputs": []
    },
    {
      "cell_type": "markdown",
      "source": [
        "# **Não escrever 1 a 3**"
      ],
      "metadata": {
        "id": "6bB26K__AQ8H"
      }
    },
    {
      "cell_type": "code",
      "source": [
        "def verificar(oloko):\n",
        "  match oloko:\n",
        "    case 1:\n",
        "      print(\"Você digitou 1\")\n",
        "    case 2:\n",
        "      print(\"Você digitou 2\")\n",
        "    case 3:\n",
        "      print(\"Você digitou 3\")\n",
        "      \n",
        "numero = int(input(\"\\U0001F923 Digite um numero que seja entre 1 e 3: \"))\n",
        "if (1 <= numero <= 3):\n",
        "  verificar(numero)\n",
        "elif (4 <= numero):\n",
        "  print(\"Numero muito grande\")\n",
        "else:\n",
        "  print(\"Numero muito pequeno\")"
      ],
      "metadata": {
        "id": "vD0ZikajAjxf"
      },
      "execution_count": null,
      "outputs": []
    },
    {
      "cell_type": "markdown",
      "source": [
        "# **Voto facultativo?**"
      ],
      "metadata": {
        "id": "viZv3Ocd6wpR"
      }
    },
    {
      "cell_type": "code",
      "source": [
        "idade = int(input('Informe sua idade: '))\n",
        "\n",
        "if (idade == 16) | (idade == 17) | (idade > 70):\n",
        "  print(\"Você pode votar facultativamente\")\n",
        "elif (idade >= 18):\n",
        "  print(\"Você é obrigado a votar\")\n",
        "else:\n",
        "  print(\"Você não pode votar nem se quisesse\")"
      ],
      "metadata": {
        "id": "-01o6KYxGRHr"
      },
      "execution_count": null,
      "outputs": []
    },
    {
      "cell_type": "markdown",
      "source": [
        "# **Divisível por 2, 3 ou 5?**"
      ],
      "metadata": {
        "id": "oA9PmbhdGIgk"
      }
    },
    {
      "cell_type": "code",
      "source": [
        "num = int(input(\"Digite um numero: \"))\n",
        "num5 = num % 5\n",
        "num3 = num % 3\n",
        "num2 = num % 2\n",
        "\n",
        "if(num5 == 0):\n",
        "  print(f\"O {num} é divisível por 5\")\n",
        "  if(num3 == 0):\n",
        "    print(f'O {num} é divisível por 3')\n",
        "  if(num2 == 0):\n",
        "    print(f'O {num} é divisível por 2')\n",
        "elif(num3 == 0):\n",
        "  print(f'O {num} é divisível por 3')\n",
        "  if(num2 == 0):\n",
        "    print(f'O {num} é divisível por 2')\n",
        "elif(num2 == 0):\n",
        "      print(f'O {num} é divisível por 2')\n",
        "else:\n",
        "  print(f'O {num} não é divisível por 2, 3 ou 5')"
      ],
      "metadata": {
        "id": "7Z0QVpJb64uw"
      },
      "execution_count": null,
      "outputs": []
    },
    {
      "cell_type": "markdown",
      "source": [
        "# **Loop Café**"
      ],
      "metadata": {
        "id": "lWXK2dPt9Ftw"
      }
    },
    {
      "cell_type": "code",
      "source": [
        "num = int(input('Quantas vezes vai aparecer a palavra \"Café\"? '))\n",
        "\n",
        "while num > 0:\n",
        "  print('Café')\n",
        "  num-=1"
      ],
      "metadata": {
        "id": "YcukrGfI9Ft3"
      },
      "execution_count": null,
      "outputs": []
    },
    {
      "cell_type": "markdown",
      "source": [
        "# **Só numeros pares**"
      ],
      "metadata": {
        "id": "0tE7GnDLBwag"
      }
    },
    {
      "cell_type": "code",
      "source": [
        "numfim = int(input('Qual número? '))\n",
        "numini = 2\n",
        "\n",
        "while numfim >= numini:\n",
        "  print(numini, end=' ')\n",
        "  numini+=2"
      ],
      "metadata": {
        "id": "BnDJSTpzBwal"
      },
      "execution_count": null,
      "outputs": []
    },
    {
      "cell_type": "markdown",
      "source": [
        "# **Só numeros primos**"
      ],
      "metadata": {
        "id": "kC1du9QfDYRP"
      }
    },
    {
      "cell_type": "code",
      "source": [
        "def is_prime(n):\n",
        "  for i in range(2,n):\n",
        "    if (n%i) == 0:\n",
        "      return False\n",
        "  return True\n",
        "\n",
        "num = int(input(\"Todos os numeros primos até o número: \"))\n",
        "for c in range(2, num + 1):\n",
        "  if is_prime(c):\n",
        "    print(c, end=' ')\n"
      ],
      "metadata": {
        "id": "Ug91eRqcM5jN"
      },
      "execution_count": null,
      "outputs": []
    }
  ]
}